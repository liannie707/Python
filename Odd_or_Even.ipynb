{
  "nbformat": 4,
  "nbformat_minor": 0,
  "metadata": {
    "colab": {
      "name": "Odd_or_Even.ipynb",
      "provenance": [],
      "authorship_tag": "ABX9TyNhQ9vf0aiMi3R5Tty6CHIb"
    },
    "kernelspec": {
      "name": "python3",
      "display_name": "Python 3"
    }
  },
  "cells": [
    {
      "cell_type": "markdown",
      "metadata": {
        "id": "3nPdHj1CK5oS"
      },
      "source": [
        "## **ODD OR EVEN NUMBER**"
      ]
    },
    {
      "cell_type": "code",
      "metadata": {
        "id": "EyOWozSrKypj"
      },
      "source": [
        "# Odd or Even Number\r\n",
        "\r\n",
        "num = input(\"Please type a number: \")\r\n",
        "\r\n",
        "if num.isdigit() == False:\r\n",
        "  print(\"That is not an integer!\")\r\n",
        "elif int(num) % 2 == 0:\r\n",
        "  print(\"That is an even number!\")\r\n",
        "else:\r\n",
        "  print(\"That is an odd number!\")"
      ],
      "execution_count": null,
      "outputs": []
    },
    {
      "cell_type": "code",
      "metadata": {
        "id": "HonPw0yqK-6B"
      },
      "source": [
        "# if the number is a multiple of 4\r\n",
        "\r\n",
        "num = input(\"Please type a number: \")\r\n",
        "\r\n",
        "if num.isdigit() == False:\r\n",
        "  print(\"That is not an integer!\")\r\n",
        "elif int(num) % 4 == 0:\r\n",
        "  print(\"That is a multiple of 4!\")\r\n",
        "elif int(num) % 2 == 0:\r\n",
        "  print(\"That is an even number!\")\r\n",
        "else:\r\n",
        "  print(\"That is an odd number!\")"
      ],
      "execution_count": null,
      "outputs": []
    },
    {
      "cell_type": "code",
      "metadata": {
        "id": "aSjwLl1dLAnw"
      },
      "source": [
        "# ask the user for two numbers\r\n",
        "\r\n",
        "print(\"Type two numbers.\")\r\n",
        "num1 = int(input(\"First number: \"))\r\n",
        "num2 = int(input(\"Second number: \"))\r\n",
        "\r\n",
        "if num1 % num2 == 0:\r\n",
        "  print(\"The second number divides evenly into the first number.\")\r\n",
        "else: \r\n",
        "  print(\"The second number does not divide evenly into the first number.\")"
      ],
      "execution_count": null,
      "outputs": []
    },
    {
      "cell_type": "code",
      "metadata": {
        "id": "doVgOrs8LD9H"
      },
      "source": [
        "# custom function for finding whether the number is even or odd\r\n",
        "\r\n",
        "num=int(input(\"Enter a number for check odd or even: \"))\r\n",
        "\r\n",
        "def number(num):\r\n",
        "  if int(num) % 2 == 0:\r\n",
        "    print(\"That is an even number!\")\r\n",
        "  else:\r\n",
        "    print(\"That is an odd number!\")\r\n",
        "\r\n",
        "number(num)"
      ],
      "execution_count": null,
      "outputs": []
    }
  ]
}