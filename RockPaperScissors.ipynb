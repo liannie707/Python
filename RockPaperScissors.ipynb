{
  "nbformat": 4,
  "nbformat_minor": 0,
  "metadata": {
    "colab": {
      "name": "RockPaperScissors.ipynb",
      "provenance": [],
      "authorship_tag": "ABX9TyMwhFS3FsYFsjvOsguwSpvp"
    },
    "kernelspec": {
      "name": "python3",
      "display_name": "Python 3"
    }
  },
  "cells": [
    {
      "cell_type": "markdown",
      "metadata": {
        "id": "KoWqNCYTNSiB"
      },
      "source": [
        "## **ROCK PAPER SCISSORS**"
      ]
    },
    {
      "cell_type": "code",
      "metadata": {
        "id": "3WS8NEarNPT-"
      },
      "source": [
        "import random\r\n",
        "\r\n",
        "game = [\"Rock\", \"Paper\", \"Scissors\"]\r\n",
        "robot = random.choice(game)\r\n",
        "\r\n",
        "print(\"Hello! Let's play Rock, Paper, Scissors.\")\r\n",
        "\r\n",
        "while True:\r\n",
        "  player = input(\"Rock, Paper, or Scissors? \")\r\n",
        "\r\n",
        "  if player == robot:\r\n",
        "    print(\"I choose \" + robot + \"!\")\r\n",
        "    print(\"It's a tie!\")\r\n",
        "\r\n",
        "  elif player == \"Rock\" and robot == \"Paper\":\r\n",
        "    print(\"I choose \" + robot + \"!\")\r\n",
        "    print(\"You lost!\")\r\n",
        "  elif player == \"Rock\" and robot == \"Scissors\":\r\n",
        "    print(\"I choose \" + robot + \"!\")\r\n",
        "    print(\"You win!\")\r\n",
        "\r\n",
        "  elif player == \"Paper\" and robot == \"Rock\":\r\n",
        "    print(\"I choose \" + robot + \"!\")\r\n",
        "    print(\"You win!\")\r\n",
        "  elif player == \"Paper\" and robot == \"Scissors\":\r\n",
        "    print(\"I choose \" + robot + \"!\")\r\n",
        "    print(\"You lost!\")\r\n",
        "\r\n",
        "  elif player == \"Scissors\" and robot == \"Rock\":\r\n",
        "    print(\"I choose \" + robot + \"!\")\r\n",
        "    print(\"You lost!\")\r\n",
        "  elif player == \"Scissors\" and robot == \"Paper\":\r\n",
        "    print(\"I choose \" + robot + \"!\")\r\n",
        "    print(\"You win!\")\r\n",
        "\r\n",
        "  else:\r\n",
        "    print(\"You did not type 'Rock', 'Paper', or 'Scissors'!\")\r\n",
        "\r\n",
        "  play_again = input(\"Play again? Enter 'Yes' or 'No': \")\r\n",
        "  if play_again.lower() == 'no':\r\n",
        "    break"
      ],
      "execution_count": null,
      "outputs": []
    }
  ]
}