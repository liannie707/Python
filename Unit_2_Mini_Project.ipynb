{
  "nbformat": 4,
  "nbformat_minor": 0,
  "metadata": {
    "colab": {
      "name": "Unit 2 Mini Project.ipynb",
      "provenance": []
    },
    "kernelspec": {
      "name": "python3",
      "display_name": "Python 3"
    }
  },
  "cells": [
    {
      "cell_type": "markdown",
      "metadata": {
        "id": "D-g-7W0av5SG"
      },
      "source": [
        "## **MINI PROJECT: ODD OR EVEN NUMBER**\r\n",
        "\r\n"
      ]
    },
    {
      "cell_type": "code",
      "metadata": {
        "id": "9azXifDT_y0K"
      },
      "source": [
        "# Odd or Even Number\r\n",
        "\r\n",
        "num = input(\"Please type a number: \")\r\n",
        "\r\n",
        "if num.isdigit() == False:\r\n",
        "  print(\"That is not an integer!\")\r\n",
        "elif int(num) % 2 == 0:\r\n",
        "  print(\"That is an even number!\")\r\n",
        "else:\r\n",
        "  print(\"That is an odd number!\")"
      ],
      "execution_count": null,
      "outputs": []
    },
    {
      "cell_type": "code",
      "metadata": {
        "colab": {
          "background_save": true
        },
        "id": "YVj57-E3J0Fy"
      },
      "source": [
        "# if the number is a multiple of 4\r\n",
        "\r\n",
        "num = input(\"Please type a number: \")\r\n",
        "\r\n",
        "if num.isdigit() == False:\r\n",
        "  print(\"That is not an integer!\")\r\n",
        "elif int(num) % 4 == 0:\r\n",
        "  print(\"That is a multiple of 4!\")\r\n",
        "elif int(num) % 2 == 0:\r\n",
        "  print(\"That is an even number!\")\r\n",
        "else:\r\n",
        "  print(\"That is an odd number!\")"
      ],
      "execution_count": null,
      "outputs": []
    },
    {
      "cell_type": "code",
      "metadata": {
        "id": "Hwtv2vOT3WmL"
      },
      "source": [
        "# ask the user for two numbers\r\n",
        "\r\n",
        "print(\"Type two numbers.\")\r\n",
        "num1 = int(input(\"First number: \"))\r\n",
        "num2 = int(input(\"Second number: \"))\r\n",
        "\r\n",
        "if num1 % num2 == 0:\r\n",
        "  print(\"The second number divides evenly into the first number.\")\r\n",
        "else: \r\n",
        "  print(\"The second number does not divide evenly into the first number.\")"
      ],
      "execution_count": null,
      "outputs": []
    },
    {
      "cell_type": "code",
      "metadata": {
        "id": "H5PAuhyQ5FW8"
      },
      "source": [
        "# custom function for finding whether the number is even or odd\r\n",
        "\r\n",
        "def number(num):\r\n",
        "  if int(num) % 2 == 0:\r\n",
        "    print(\"That is an even number!\")\r\n",
        "  else:\r\n",
        "    print(\"That is an odd number!\")\r\n",
        "\r\n",
        "number(7)"
      ],
      "execution_count": null,
      "outputs": []
    },
    {
      "cell_type": "markdown",
      "metadata": {
        "id": "1fRZLFtNs5Yq"
      },
      "source": [
        "## **MINI PROJECT: ROCK PAPER SCISSORS**"
      ]
    },
    {
      "cell_type": "code",
      "metadata": {
        "id": "zX22E1CWtBLM"
      },
      "source": [
        "import random\r\n",
        "\r\n",
        "game = [\"Rock\", \"Paper\", \"Scissors\"]\r\n",
        "robot = random.choice(game)\r\n",
        "\r\n",
        "print(\"Hello! Let's play Rock, Paper, Scissors.\")\r\n",
        "\r\n",
        "while True:\r\n",
        "  player = input(\"Rock, Paper, or Scissors? \")\r\n",
        "\r\n",
        "  if player == robot:\r\n",
        "    print(\"I choose \" + robot + \"!\")\r\n",
        "    print(\"It's a tie!\")\r\n",
        "\r\n",
        "  elif player == \"Rock\" and robot == \"Paper\":\r\n",
        "    print(\"I choose \" + robot + \"!\")\r\n",
        "    print(\"You lost!\")\r\n",
        "  elif player == \"Rock\" and robot == \"Scissors\":\r\n",
        "    print(\"I choose \" + robot + \"!\")\r\n",
        "    print(\"You win!\")\r\n",
        "\r\n",
        "  elif player == \"Paper\" and robot == \"Rock\":\r\n",
        "    print(\"I choose \" + robot + \"!\")\r\n",
        "    print(\"You win!\")\r\n",
        "  elif player == \"Paper\" and robot == \"Scissors\":\r\n",
        "    print(\"I choose \" + robot + \"!\")\r\n",
        "    print(\"You lost!\")\r\n",
        "\r\n",
        "  elif player == \"Scissors\" and robot == \"Rock\":\r\n",
        "    print(\"I choose \" + robot + \"!\")\r\n",
        "    print(\"You lost!\")\r\n",
        "  elif player == \"Scissors\" and robot == \"Paper\":\r\n",
        "    print(\"I choose \" + robot + \"!\")\r\n",
        "    print(\"You win!\")\r\n",
        "\r\n",
        "  else:\r\n",
        "    print(\"You did not type 'Rock', 'Paper', or 'Scissors'!\")\r\n",
        "\r\n",
        "  play_again = input(\"Play again? Enter 'Yes' or 'No': \")\r\n",
        "  if play_again.lower() == 'no':\r\n",
        "    break"
      ],
      "execution_count": null,
      "outputs": []
    }
  ]
}